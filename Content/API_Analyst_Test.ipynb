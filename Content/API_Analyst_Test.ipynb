{
  "cells": [
    {
      "cell_type": "code",
      "execution_count": 1,
      "metadata": {
        "colab": {
          "base_uri": "https://localhost:8080/"
        },
        "id": "73K5bia1PHrU",
        "outputId": "a6213ac2-471d-4b31-b9ab-1ed5a29183cc"
      },
      "outputs": [
        {
          "name": "stdout",
          "output_type": "stream",
          "text": [
            "Error: 401 {\"message\":\"Bad credentials\",\"documentation_url\":\"https://docs.github.com/rest\",\"status\":\"401\"}\n"
          ]
        }
      ],
      "source": [
        "import requests\n",
        "import pandas as pd\n",
        "\n",
        "GITHUB_TOKEN = \"insert_token\"\n",
        "HEADERS = {\n",
        "    \"Authorization\": f\"Bearer {GITHUB_TOKEN}\",\n",
        "    \"Accept\": \"application/vnd.github+json\",\n",
        "    \"X-GitHub-Api-Version\": \"2022-11-28\"\n",
        "}\n",
        "\n",
        "\n",
        "def search_repositories(query=\"data\", per_page=5):\n",
        "    url = \"https://api.github.com/search/repositories\"\n",
        "    params = {\n",
        "        \"q\": query,\n",
        "        \"sort\": \"stars\",\n",
        "        \"order\": \"desc\",\n",
        "        \"per_page\": per_page\n",
        "    }\n",
        "    response = requests.get(url, headers=HEADERS, params=params)\n",
        "    if response.status_code == 200:\n",
        "        items = response.json()[\"items\"]\n",
        "        for repo in items:\n",
        "            print(f\"{repo['full_name']} ⭐ {repo['stargazers_count']}\")\n",
        "        return items\n",
        "    else:\n",
        "        print(\"Error:\", response.status_code, response.text)\n",
        "        return None\n",
        "\n",
        "def check_rate_limit():\n",
        "    url = \"https://api.github.com/rate_limit\"\n",
        "    response = requests.get(url, headers=HEADERS)\n",
        "    if response.status_code == 200:\n",
        "        data = response.json()\n",
        "        print(\"Peticiones restantes:\", data['rate']['remaining'])\n",
        "        \n",
        "        print(\"Reseteo a las:\", data['rate']['reset'])\n",
        "    else:\n",
        "        print(\"Error al consultar límites:\", response.text)\n",
        "\n",
        "search_repositories(\"machine learning\", per_page=3)\n"
      ]
    },
    {
      "cell_type": "code",
      "execution_count": null,
      "metadata": {
        "id": "9fiWK2P_nAEa"
      },
      "outputs": [],
      "source": []
    }
  ],
  "metadata": {
    "colab": {
      "provenance": []
    },
    "kernelspec": {
      "display_name": "Python 3",
      "name": "python3"
    },
    "language_info": {
      "codemirror_mode": {
        "name": "ipython",
        "version": 3
      },
      "file_extension": ".py",
      "mimetype": "text/x-python",
      "name": "python",
      "nbconvert_exporter": "python",
      "pygments_lexer": "ipython3",
      "version": "3.13.1"
    }
  },
  "nbformat": 4,
  "nbformat_minor": 0
}
